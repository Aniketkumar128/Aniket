{
 "cells": [
  {
   "cell_type": "markdown",
   "id": "2623eca9-5011-4e3a-a3c3-03cf6542fdf4",
   "metadata": {},
   "source": [
    "#Data Science tools and ecosystem"
   ]
  },
  {
   "cell_type": "markdown",
   "id": "8281a716-40bd-476e-b0ec-99f9717dd07b",
   "metadata": {},
   "source": [
    "In this notebook, Data Science Tools and Ecosystem are summarized."
   ]
  },
  {
   "cell_type": "markdown",
   "id": "340961ac-514c-4f83-aa3b-b95961223343",
   "metadata": {},
   "source": [
    "Objectives:\n",
    "List popular languages for Data Science\n",
    "List commonly used libraries used by Data Scientists\n",
    "List some Data Science Tools\n",
    "write few examples showing arithmetic expressions in Python\n"
   ]
  },
  {
   "cell_type": "markdown",
   "id": "f592e835-8a76-4ef9-9d0b-4a265c25eeaf",
   "metadata": {},
   "source": [
    "Some of the popular languages that Data Scientists use are:\n",
    "Python\n",
    "Javascript\n",
    "R\n",
    "SQL\n",
    "Matlab\n",
    "Scala\n",
    "Julia"
   ]
  },
  {
   "cell_type": "markdown",
   "id": "ffe90e83-6d66-4d5e-b89c-3a7f8c9ee4e3",
   "metadata": {},
   "source": [
    "Some of the commonly used libraries used by Data Scientists include:\n",
    "Numpy\n",
    "Pandas\n",
    "SciPy\n",
    "SciKit-Learn\n",
    "TensorFlow\n",
    "Matplotlib"
   ]
  },
  {
   "cell_type": "markdown",
   "id": "3aa38551-2d63-4904-ba1e-47db1ae80771",
   "metadata": {},
   "source": [
    "Data Science Tools\n",
    "JupyterLab\n",
    "Apache Spark\n",
    "Apache Hadoop"
   ]
  },
  {
   "cell_type": "markdown",
   "id": "aab713d9-667b-4911-857d-4b1bd24005c6",
   "metadata": {},
   "source": [
    "###Below are few examples of evaluating arithmetic expressions in Python."
   ]
  },
  {
   "cell_type": "code",
   "execution_count": 5,
   "id": "52eec1f1-8498-4835-b367-b26a64798635",
   "metadata": {
    "tags": []
   },
   "outputs": [
    {
     "data": {
      "text/plain": [
       "17"
      ]
     },
     "execution_count": 5,
     "metadata": {},
     "output_type": "execute_result"
    }
   ],
   "source": [
    "#This is a simple arithmetic expression to multiply then add integers\n",
    "(3*4)+5"
   ]
  },
  {
   "cell_type": "code",
   "execution_count": 6,
   "id": "613bfdab-4f1f-4330-a411-e268ad10c460",
   "metadata": {
    "tags": []
   },
   "outputs": [
    {
     "data": {
      "text/plain": [
       "3.3333333333333335"
      ]
     },
     "execution_count": 6,
     "metadata": {},
     "output_type": "execute_result"
    }
   ],
   "source": [
    "#This will convert 200 minutes to hours by dividing by 60\n",
    "200/60"
   ]
  },
  {
   "cell_type": "markdown",
   "id": "87fd33cb-04d4-4187-b90c-03c646f66b2e",
   "metadata": {},
   "source": [
    "##Author\n",
    "Aniket kumar"
   ]
  }
 ],
 "metadata": {
  "kernelspec": {
   "display_name": "Python",
   "language": "python",
   "name": "conda-env-python-py"
  },
  "language_info": {
   "codemirror_mode": {
    "name": "ipython",
    "version": 3
   },
   "file_extension": ".py",
   "mimetype": "text/x-python",
   "name": "python",
   "nbconvert_exporter": "python",
   "pygments_lexer": "ipython3",
   "version": "3.7.12"
  }
 },
 "nbformat": 4,
 "nbformat_minor": 5
}
